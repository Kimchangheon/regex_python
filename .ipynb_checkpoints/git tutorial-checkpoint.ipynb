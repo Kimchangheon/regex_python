{
 "cells": [
  {
   "cell_type": "markdown",
   "metadata": {},
   "source": [
    "### Git과 GitHub을 연결"
   ]
  },
  {
   "cell_type": "code",
   "execution_count": null,
   "metadata": {},
   "outputs": [],
   "source": [
    "# $ git config --global user.email \"my-email@gmail.com\"\n",
    "# $ git config --global user.name \"my-username\""
   ]
  },
  {
   "cell_type": "markdown",
   "metadata": {},
   "source": [
    "### Git에 등록한 config의 정보를 모두 확인하고 싶으면 다음과 같이 입력해 봅시다."
   ]
  },
  {
   "cell_type": "code",
   "execution_count": 1,
   "metadata": {},
   "outputs": [
    {
     "name": "stdout",
     "output_type": "stream",
     "text": [
      "filter.lfs.process=git-lfs filter-process\r\n",
      "filter.lfs.required=true\r\n",
      "filter.lfs.clean=git-lfs clean -- %f\r\n",
      "filter.lfs.smudge=git-lfs smudge -- %f\r\n",
      "user.name=Kimchangheon\r\n",
      "user.email=chkim345@gmail.com\r\n",
      "core.repositoryformatversion=0\r\n",
      "core.filemode=true\r\n",
      "core.bare=false\r\n",
      "core.logallrefupdates=true\r\n",
      "remote.origin.url=https://github.com/Kimchangheon/aiffel.git\r\n",
      "remote.origin.fetch=+refs/heads/*:refs/remotes/origin/*\r\n",
      "branch.main.remote=origin\r\n",
      "branch.main.merge=refs/heads/main\r\n"
     ]
    }
   ],
   "source": [
    "!git config -l"
   ]
  },
  {
   "cell_type": "markdown",
   "metadata": {},
   "source": [
    "### git init"
   ]
  },
  {
   "cell_type": "code",
   "execution_count": 2,
   "metadata": {},
   "outputs": [
    {
     "name": "stdout",
     "output_type": "stream",
     "text": [
      "/home/kch/aiffel/F-13/.git/ 안의 빈 깃 저장소를 다시 초기화했습니다\r\n"
     ]
    }
   ],
   "source": [
    "#새로운 디렉토리에 들어가서 \n",
    "!git init"
   ]
  },
  {
   "cell_type": "code",
   "execution_count": 4,
   "metadata": {},
   "outputs": [],
   "source": [
    "!echo \"# F-13\" >> README.md"
   ]
  },
  {
   "cell_type": "markdown",
   "metadata": {},
   "source": [
    "### Git이 추적하고 있는 변화확인"
   ]
  },
  {
   "cell_type": "code",
   "execution_count": 5,
   "metadata": {},
   "outputs": [
    {
     "name": "stdout",
     "output_type": "stream",
     "text": [
      "현재 브랜치 master\r\n",
      "\r\n",
      "아직 커밋이 없습니다\r\n",
      "\r\n",
      "추적하지 않는 파일:\r\n",
      "  (커밋할 사항에 포함하려면 \"git add <파일>...\"을 사용하십시오)\r\n",
      "\r\n",
      "\t\u001b[31m.ipynb_checkpoints/\u001b[m\r\n",
      "\t\u001b[31mREADME.md\u001b[m\r\n",
      "\t\u001b[31mgit tutorial.ipynb\u001b[m\r\n",
      "\r\n",
      "커밋할 사항을 추가하지 않았지만 추적하지 않는 파일이 있습니다 (추적하려면 \"git\r\n",
      "add\"를 사용하십시오)\r\n"
     ]
    }
   ],
   "source": [
    "!git status"
   ]
  },
  {
   "cell_type": "markdown",
   "metadata": {},
   "source": [
    "### git add와 commit\n",
    "\n",
    "add와 커밋의 차이 : https://ifuwanna.tistory.com/193"
   ]
  },
  {
   "cell_type": "code",
   "execution_count": 6,
   "metadata": {},
   "outputs": [],
   "source": [
    "!git add README.md"
   ]
  },
  {
   "cell_type": "code",
   "execution_count": 8,
   "metadata": {},
   "outputs": [
    {
     "name": "stdout",
     "output_type": "stream",
     "text": [
      "[master (최상위-커밋) 4646811] new readme file\r\n",
      " 1 file changed, 1 insertion(+)\r\n",
      " create mode 100644 README.md\r\n"
     ]
    }
   ],
   "source": [
    "!git commit -m \"new readme file\" # -m은 메세지 옵션 해당 커밋에 대한 설명 작성"
   ]
  },
  {
   "cell_type": "markdown",
   "metadata": {},
   "source": [
    "### 원격 저장소에 레퍼지토리 만들기"
   ]
  },
  {
   "cell_type": "code",
   "execution_count": 9,
   "metadata": {},
   "outputs": [],
   "source": [
    "!git remote add f13 https://github.com/Kimchangheon/regex_python.git"
   ]
  },
  {
   "cell_type": "markdown",
   "metadata": {},
   "source": [
    "로컬 저장소의 기록을 원격 저장소로 전송하기"
   ]
  },
  {
   "cell_type": "code",
   "execution_count": 10,
   "metadata": {},
   "outputs": [],
   "source": [
    "!git config credential.helper store"
   ]
  },
  {
   "cell_type": "code",
   "execution_count": 13,
   "metadata": {},
   "outputs": [
    {
     "name": "stdout",
     "output_type": "stream",
     "text": [
      "Username for 'https://github.com': ^C\n"
     ]
    }
   ],
   "source": [
    "!git push f13 master"
   ]
  },
  {
   "cell_type": "code",
   "execution_count": null,
   "metadata": {},
   "outputs": [],
   "source": []
  }
 ],
 "metadata": {
  "kernelspec": {
   "display_name": "Python 3",
   "language": "python",
   "name": "python3"
  },
  "language_info": {
   "codemirror_mode": {
    "name": "ipython",
    "version": 3
   },
   "file_extension": ".py",
   "mimetype": "text/x-python",
   "name": "python",
   "nbconvert_exporter": "python",
   "pygments_lexer": "ipython3",
   "version": "3.8.5"
  }
 },
 "nbformat": 4,
 "nbformat_minor": 4
}
